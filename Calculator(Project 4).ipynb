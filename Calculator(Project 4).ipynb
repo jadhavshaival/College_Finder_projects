{
 "cells": [
  {
   "cell_type": "code",
   "execution_count": 33,
   "id": "ede0876c",
   "metadata": {},
   "outputs": [
    {
     "name": "stdout",
     "output_type": "stream",
     "text": [
      "OPERATIONS:\n",
      "1. ADDITION\n",
      "2. SUBTRACTION\n",
      "3. MULTIPLICATION\n",
      "4. DIVISION\n",
      "\n",
      "Select operation(1,2,3,4): 1\n",
      "Enter first number: 52\n",
      "Enter second number: 65\n",
      "52 + 65 = 117\n",
      "\n",
      "Let's do next clculation(y/n): y\n",
      "\n",
      "Select operation(1,2,3,4): 2\n",
      "Enter first number: 36\n",
      "Enter second number: 25\n",
      "36 - 25 = 11\n",
      "\n",
      "Let's do next clculation(y/n): y\n",
      "\n",
      "Select operation(1,2,3,4): 3\n",
      "Enter first number: 45\n",
      "Enter second number: 8\n",
      "45 * 8 = 360\n",
      "\n",
      "Let's do next clculation(y/n): y\n",
      "\n",
      "Select operation(1,2,3,4): 4\n",
      "Enter first number: 65\n",
      "Enter second number: 5\n",
      "65 / 5 = 13.0\n",
      "\n",
      "Let's do next clculation(y/n): n\n"
     ]
    }
   ],
   "source": [
    "print(\"OPERATIONS:\\n1. ADDITION\\n2. SUBTRACTION\\n3. MULTIPLICATION\\n4. DIVISION\")\n",
    "while True:\n",
    "    op = int(input(\"\\nSelect operation(1,2,3,4): \")) \n",
    "    \n",
    "    #checking for valid choice\n",
    "    if op in (1,2,3,4):\n",
    "        num1 = int(input(\"Enter first number: \"))\n",
    "        num2 = int(input(\"Enter second number: \"))\n",
    "        calculator(op, num1, num2)\n",
    "        \n",
    "        # check if user wants another calculation\n",
    "        # break the while loop if answer is no\n",
    "        \n",
    "        y = input(\"\\nLet's do next clculation(y/n): \")\n",
    "        if y == 'n':\n",
    "            break\n",
    "    else:\n",
    "        print(\"Invalid Choice!!\")\n",
    "    \n",
    "\n",
    "        \n",
    "# Creating function for calculation\n",
    "def calculator(op, num1, num2):\n",
    "    #logic for addition\n",
    "    if op == 1:\n",
    "        print(f\"{num1} + {num2} = {num1 + num2}\")\n",
    "    \n",
    "    #logic for subtraction\n",
    "    elif op == 2:\n",
    "        print(f\"{num1} - {num2} = {num1 - num2}\")\n",
    "        \n",
    "    #logic for multiplication\n",
    "    elif op == 3:\n",
    "        print(f\"{num1} * {num2} = {num1 * num2}\")\n",
    "        \n",
    "    #logic for division\n",
    "    else:  \n",
    "        print(f\"{num1} / {num2} = {num1/num2}\")\n",
    "                "
   ]
  },
  {
   "cell_type": "code",
   "execution_count": null,
   "id": "332e20f7",
   "metadata": {},
   "outputs": [],
   "source": []
  },
  {
   "cell_type": "code",
   "execution_count": null,
   "id": "9e55b528",
   "metadata": {},
   "outputs": [],
   "source": []
  }
 ],
 "metadata": {
  "kernelspec": {
   "display_name": "Python 3 (ipykernel)",
   "language": "python",
   "name": "python3"
  },
  "language_info": {
   "codemirror_mode": {
    "name": "ipython",
    "version": 3
   },
   "file_extension": ".py",
   "mimetype": "text/x-python",
   "name": "python",
   "nbconvert_exporter": "python",
   "pygments_lexer": "ipython3",
   "version": "3.9.7"
  }
 },
 "nbformat": 4,
 "nbformat_minor": 5
}
