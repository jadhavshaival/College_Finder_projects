{
 "cells": [
  {
   "cell_type": "code",
   "execution_count": 3,
   "id": "38b1167d",
   "metadata": {},
   "outputs": [],
   "source": [
    "import os\n",
    "\n",
    "# Function to rename multiple files\n",
    "\n",
    "def main():\n",
    "   i = 0\n",
    "   path=\"C:\\\\Users\\\\jadha\\\\CF_Projects\\\\img\\\\\"\n",
    "   for filename in os.listdir(path):\n",
    "      my_dest =\"pic \" + str(i) + \".jpg\"\n",
    "      my_source =path + filename\n",
    "      dest =path + my_dest\n",
    "      os.rename(my_source, dest)  # rename() function will rename all the files\n",
    "      i += 1\n",
    "\n",
    "# Driver Code\n",
    "if __name__ == '__main__':\n",
    "   # Calling main() function\n",
    "   main()"
   ]
  },
  {
   "cell_type": "code",
   "execution_count": null,
   "id": "d2a377ea",
   "metadata": {},
   "outputs": [],
   "source": []
  }
 ],
 "metadata": {
  "kernelspec": {
   "display_name": "Python 3 (ipykernel)",
   "language": "python",
   "name": "python3"
  },
  "language_info": {
   "codemirror_mode": {
    "name": "ipython",
    "version": 3
   },
   "file_extension": ".py",
   "mimetype": "text/x-python",
   "name": "python",
   "nbconvert_exporter": "python",
   "pygments_lexer": "ipython3",
   "version": "3.9.7"
  }
 },
 "nbformat": 4,
 "nbformat_minor": 5
}
